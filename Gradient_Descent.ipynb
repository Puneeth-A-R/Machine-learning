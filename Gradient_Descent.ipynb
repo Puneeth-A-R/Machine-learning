{
  "nbformat": 4,
  "nbformat_minor": 0,
  "metadata": {
    "colab": {
      "provenance": [],
      "authorship_tag": "ABX9TyP3nLztVab+kq3oo5kRGxCX",
      "include_colab_link": true
    },
    "kernelspec": {
      "name": "python3",
      "display_name": "Python 3"
    },
    "language_info": {
      "name": "python"
    }
  },
  "cells": [
    {
      "cell_type": "markdown",
      "metadata": {
        "id": "view-in-github",
        "colab_type": "text"
      },
      "source": [
        "<a href=\"https://colab.research.google.com/github/Puneeth-A-R/Machine-learning/blob/main/Gradient_Descent.ipynb\" target=\"_parent\"><img src=\"https://colab.research.google.com/assets/colab-badge.svg\" alt=\"Open In Colab\"/></a>"
      ]
    },
    {
      "cell_type": "code",
      "execution_count": null,
      "metadata": {
        "id": "9t5A8XzB32yy"
      },
      "outputs": [],
      "source": [
        "!wget https://github.com/codebasics/py/raw/master/ML/3_gradient_descent/Exercise/test_scores.csv"
      ]
    },
    {
      "cell_type": "code",
      "source": [
        "import numpy as np"
      ],
      "metadata": {
        "id": "l-ku98-6r9oF"
      },
      "execution_count": 4,
      "outputs": []
    },
    {
      "cell_type": "code",
      "source": [
        "def gradient_decent(x, y, iterations, learning_rate):\n",
        "  m_curr = b_curr = 0\n",
        "  n = len(x)\n",
        "  for i in range(iterations):\n",
        "    y_pred = m_curr*x+b_curr\n",
        "    cost = (1/n) * sum([val**2 for val in (y-y_pred)])\n",
        "    partial_m = -(2/n)*sum(x * (y - y_pred))\n",
        "    partial_b = -(2/n)*sum(y - y_pred)\n",
        "    m_curr = m_curr - learning_rate * partial_m\n",
        "    b_curr = b_curr - learning_rate * partial_b\n",
        "    print(f\"{i = }, {m_curr = }, {b_curr = }, {cost = }\")"
      ],
      "metadata": {
        "id": "89ZHyOr6sBvp"
      },
      "execution_count": 30,
      "outputs": []
    },
    {
      "cell_type": "code",
      "source": [
        "x = np.array([1,2,3,4,5])\n",
        "y = np.array([5,7,9,11,13])\n",
        "gradient_decent(x, y, iterations=10000, learning_rate=0.08)"
      ],
      "metadata": {
        "id": "890XueEswzGM"
      },
      "execution_count": null,
      "outputs": []
    }
  ]
}